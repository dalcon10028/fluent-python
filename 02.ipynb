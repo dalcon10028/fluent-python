{
 "cells": [
  {
   "cell_type": "code",
   "execution_count": 1,
   "metadata": {
    "collapsed": true,
    "pycharm": {
     "name": "#%%\n"
    }
   },
   "outputs": [
    {
     "name": "stdout",
     "output_type": "stream",
     "text": [
      "[196, 196, 49, 50, 51, 50, 49, 51]\n",
      "[196, 196]\n",
      "[196, 196]\n",
      "[('black', 'S'), ('black', 'M'), ('black', 'L'), ('white', 'S'), ('white', 'M'), ('white', 'L')]\n",
      "array('I', [196, 196, 49, 50, 51, 50, 49, 51])\n",
      "BRA/CE342567\n",
      "ESP/XDA205856\n",
      "USA/31195855\n",
      "USA\n",
      "BRA\n",
      "ESP\n",
      "33.9425\n",
      "-118.408056\n",
      "b a\n",
      "1 2\n",
      "bbb\n",
      "0 1 [2, 3, 4]\n",
      "0 [1, 2] 3 4\n",
      "                |   lat.    |   long.  \n",
      "Tokyo           |   19.4333 |  -99.1333\n",
      "Tokyo           |   40.8086 |  -74.0204\n",
      "Tokyo           |  -23.5478 |  -46.6358\n",
      "City(name='Tokyo', country='JP', population=36.933, coodinates=(35.689722, 139, 691667))\n",
      "36.933\n",
      "(35.689722, 139, 691667)\n",
      "JP\n",
      "('name', 'country', 'population', 'coodinates')\n",
      "{'name': 'Delhi NCR', 'country': 'IN', 'population': 21.935, 'coodinates': LatLong(lat=28.613889, long=77.208889)}\n",
      "name: Delhi NCR\n",
      "country: IN\n",
      "population: 21.935\n",
      "coodinates: LatLong(lat=28.613889, long=77.208889)\n",
      "[[1], [1], [1]]\n",
      "[['_', '_', '_'], ['_', '_', 'X'], ['_', '_', '_']]\n",
      "[['_', '_', '_'], ['_', '_', '_'], ['_', '_', '_']]\n",
      "[['_', '_', '0'], ['_', '_', '0'], ['_', '_', '0']]\n",
      "10 -> [10]\n",
      " 0 -> [0, 10]\n",
      " 6 -> [0, 6, 10]\n",
      " 8 -> [0, 6, 8, 10]\n",
      " 7 -> [0, 6, 7, 8, 10]\n",
      " 2 -> [0, 2, 6, 7, 8, 10]\n",
      "10 -> [0, 2, 6, 7, 8, 10, 10]\n"
     ]
    }
   ],
   "source": [
    "from collections import namedtuple\n",
    "import os\n",
    "import array\n",
    "symbols = \"ÄÄ123213\"\n",
    "\n",
    "codes = [ord(symbol) for symbol in symbols]\n",
    "\n",
    "beyond_ascii = [ord(s) for s in symbols if ord(s) > 127]\n",
    "\n",
    "\n",
    "print(codes)\n",
    "print(beyond_ascii)\n",
    "\n",
    "beyond_ascii = list(filter(lambda c: c > 127, map(ord, symbols)))\n",
    "\n",
    "print(beyond_ascii)\n",
    "\n",
    "# 데카르트 곱 1차원 곱 -> 2차원\n",
    "colors = ['black', 'white']\n",
    "sizes = ['S', 'M', 'L']\n",
    "tshirts = [(color, size) for color in colors for size in sizes]\n",
    "print(tshirts)\n",
    "\n",
    "# 제너레이터 표현식\n",
    "# 다른 생성자에 전달할 리스트를 통쨰로 만들지 않고 이터레이터 프로토콜을 이용해서 항목을 하나씩 생성하는 제너레이터 표현식은 메모리를 더 적게 사용한다.\n",
    "# 제너레이터 표현식은 지능현 리스트와 동일한 구문을 사용하지만 대괄호 대신 괄호를 사용한다.\n",
    "tuple(ord(symbol) for symbol in symbols)\n",
    "print(array.array('I', (ord(symbol) for symbol in symbols)))\n",
    "\n",
    "# 2.3\n",
    "# 튜플은 단순한 불변 리스트가 아니다.\n",
    "# 튜플은 불변 리스트로 사용할 수도 있지만 필드명이 없는 레코드로 사용할 수도 있다.\n",
    "\n",
    "lax_coodinates = (33.9425, -118.408056)\n",
    "# 튜플 언패킹 (iterable unpacking)\n",
    "city, year, pop, chg, area = ('Tokyo', 2003, 32450, 0.66, 8014)\n",
    "traveler_ids = [('USA', '31195855'), ('BRA', 'CE342567'), ('ESP', 'XDA205856')]\n",
    "for passport in sorted(traveler_ids):\n",
    "    print('%s/%s' % passport)\n",
    "\n",
    "for country, _ in traveler_ids:\n",
    "    print(country)\n",
    "\n",
    "# 병렬할당 (parallel assignment)\n",
    "lax_coodinates = (33.9425, -118.408056)\n",
    "latitude, longtitude = lax_coodinates  # 튜플 언패킹\n",
    "print(latitude)\n",
    "print(longtitude)\n",
    "\n",
    "# 값의 교환\n",
    "a = 'a'\n",
    "b = 'b'\n",
    "b, a = a, b\n",
    "print(a, b)\n",
    "\n",
    "# *을 이용한 언패킹\n",
    "print(*(1, 2))\n",
    "\n",
    "# 파일 시스템경로에서 경로명과 파일명 가져오기\n",
    "_, filename = os.path.split('/home/aaa/bbb')\n",
    "print(filename)\n",
    "\n",
    "# 전통적으로 _는 gettext.gettext()함수의 대한 별명으로 사용된다. 그 외의 경우에는 _를 플레이스홀더로 사용하는 것이 좋다.\n",
    "\n",
    "# 초과 항목을 잡기 위해 * 사용하기\n",
    "# js의 spread syntax랑 비슷한거 같음\n",
    "a, b, *rest = range(5)\n",
    "print(a, b, rest)\n",
    "\n",
    "a, *body, c, d = range(5)\n",
    "print(a, body, c, d)\n",
    "\n",
    "# 내포된 튜플 언패킹\n",
    "metro_areas = [\n",
    "    ('Tokyo', 'JP', 36.933, (35.689722, 139.691667)),\n",
    "    ('Delhi NCR', 'IN', 21.935, (28.613889, 77.208889)),\n",
    "    ('Tokyo', 'JP', 20.142, (19.433333, -99.133333)),\n",
    "    ('Tokyo', 'JP', 20.104, (40.808611, -74.020386)),\n",
    "    ('Tokyo', 'JP', 19.649, (-23.547778, -46.635833)),  # trailing comma를 지원하는군\n",
    "]\n",
    "\n",
    "print('{:15} | {:^9} | {:^9}'.format('', 'lat.', 'long.'))\n",
    "fmt = '{:15} | {:9.4f} | {:9.4f}'\n",
    "# 마지막 필드를 튜플에 할당하면서 언패킹 - js의 구조분해할당 비슷함 (destructuring assignment)\n",
    "for name, cc, pop, (latitude, longitude) in metro_areas:\n",
    "    if longitude <= 0:\n",
    "        print(fmt.format(name, latitude, longitude))\n",
    "\n",
    "\n",
    "# namedtuple\n",
    "# 튜플은 레코드로 사용하기에 부족한 점이 있다. 때로는 필드에 이름을 붙일 필요가 있다.\n",
    "# 필드명이 클래스에 저장되브로 namedtuple()로 생성한 객체는 튜플과 동일한 크기의 메모리만 사용한다.\n",
    "# 속성을 객체마다 존재하는 __dict__에 저장하지 않으므로 일반적인 객체보다 메모리를 적게 사용한다.\n",
    "\n",
    "\n",
    "City = namedtuple('City', 'name country population coodinates')\n",
    "tokyo = City('Tokyo', 'JP', 36.933, (35.689722, 139, 691667))\n",
    "print(tokyo)\n",
    "\n",
    "print(tokyo.population)\n",
    "\n",
    "print(tokyo.coodinates)\n",
    "\n",
    "print(tokyo[1])\n",
    "\n",
    "# namedtuple은 튜플에서 상속받은 속성 외 몇 가지 속성을 더 가지고 있다.\n",
    "\n",
    "print(City._fields)\n",
    "\n",
    "LatLong = namedtuple('LatLong', 'lat long')\n",
    "\n",
    "delhi_data = ('Delhi NCR', 'IN', 21.935, LatLong(28.613889, 77.208889))\n",
    "\n",
    "delhi = City._make(delhi_data)\n",
    "\n",
    "print(delhi._asdict())\n",
    "\n",
    "# k v 뿌리기\n",
    "for key, value in delhi._asdict().items():\n",
    "    print(key + ':', value)\n",
    "\n",
    "# slicing\n",
    "\n",
    "l = [10, 20, 30, 40, 50, 60]\n",
    "\n",
    "# stride s[a:b:c] c 보폭(stride)만큼 항목을 건너뛴다.\n",
    "\n",
    "s = 'bicycle'\n",
    "s[::3]\n",
    "\n",
    "# 다차원 슬라이싱과 생략기호\n",
    "# ...는 Ellipsis 객체의 별명으로서 하나의 ellipsis클래스의 객체다.\n",
    "#\n",
    "\n",
    "# 시퀀스 곱셈 연산자 주의\n",
    "\n",
    "my_list = [[]] * 3\n",
    "\n",
    "my_list[1].append(1)\n",
    "print(my_list)\n",
    "\n",
    "# 리스트의 리스트 만들기\n",
    "\n",
    "board = [['_'] * 3 for i in range(3)]\n",
    "board[1][2] = 'X'\n",
    "print(board)\n",
    "\n",
    "# [['_'] * 3] * 3 동일한 리스트에 대한 세 개의 참조를 가진 리스트는 쓸모없다.\n",
    "\n",
    "weired_board = [['_'] * 3] * 3\n",
    "print(weired_board)\n",
    "\n",
    "weired_board[1][2] = '0'\n",
    "print(weired_board)\n",
    "\n",
    "fruits = ['grape', 'raspberry', 'apple', 'banana']\n",
    "fruits\n",
    "['grape', 'raspberry', 'apple', 'banana']\n",
    "sorted(fruits)\n",
    "['apple', 'banana', 'grape', 'raspberry']\n",
    "sorted(fruits, reverse=True)\n",
    "['raspberry', 'grape', 'banana', 'apple']\n",
    "sorted(fruits, key=len)\n",
    "['grape', 'apple', 'banana', 'raspberry']\n",
    "fruits\n",
    "['grape', 'raspberry', 'apple', 'banana']\n",
    "fruits.sort()\n",
    "fruits\n",
    "['apple', 'banana', 'grape', 'raspberry']\n",
    "\n",
    "# bisect\n",
    "import bisect\n",
    "import random\n",
    "\n",
    "SIZE = 7\n",
    "\n",
    "random.seed(1729)\n",
    "\n",
    "my_list = []\n",
    "for i in range(SIZE):\n",
    "    new_item = random.randrange(SIZE*2)\n",
    "    bisect.insort(my_list, new_item)\n",
    "    print('%2d ->' % new_item, my_list)\n",
    "\n",
    "# 객체를 직력화 하\n",
    "#\n",
    "#"
   ]
  },
  {
   "cell_type": "markdown",
   "source": [
    "### TIP\n",
    "객체를 직렬화 하는 pickle 모듈도 숫자 데이터를 빠르고 융통성 있게 저장할 수 있다.\n",
    "pickle.dump() 메서드는 실수 배열을 array.tofile() 메서드만큼 빠르게 저장할 뿐만 아니라 복소수, 내포된 컬렉션(저장하기 까다롭게 구현한 경우가 아니라면) 심지어 사용자 정의 객체 등 거의 모든 내장 자료형을 처리할 수 있다."
   ],
   "metadata": {
    "collapsed": false,
    "pycharm": {
     "name": "#%% md\n"
    }
   }
  },
  {
   "cell_type": "markdown",
   "source": [
    "## 메모리 뷰\n",
    "memoryview 내장 클래스는 공유 메모리 시퀀스형으로서 bytes를 복사하지 않고 배열의 슬라이스를 다룰 수 있게 해준다.\n",
    "\n",
    "메모리 뷰는 본질적으로 파이썬 자체에 들어 있는 NumPy 배열 구조체를 일반화한 것이다. 메모리 뷰는 PIL 이미지, SQLlite 데이터베이스, NumPy 배열 등 데이터 구조체를 복사하지 않고 메모리를 공유할 수 있게 해준다. 데이터셋이 커지는 경우 이것을 아주 중요한 기법이다."
   ],
   "metadata": {
    "collapsed": false,
    "pycharm": {
     "name": "#%% md\n"
    }
   }
  },
  {
   "cell_type": "code",
   "execution_count": 3,
   "outputs": [
    {
     "name": "stdout",
     "output_type": "stream",
     "text": [
      "5\n",
      "-2\n",
      "[254, 255, 255, 255, 0, 0, 1, 0, 2, 0]\n",
      "array('h', [-2, -1, 1024, 1, 2])\n"
     ]
    }
   ],
   "source": [
    "import array\n",
    "numbers = array.array('h', [-2, -1, 0, 1, 2])\n",
    "memv = memoryview(numbers)\n",
    "print(len(memv))\n",
    "\n",
    "print(memv[0])\n",
    "\n",
    "memv_oct = memv.cast('B')\n",
    "print(memv_oct.tolist())\n",
    "memv_oct[5] = 4\n",
    "print(numbers)"
   ],
   "metadata": {
    "collapsed": false,
    "pycharm": {
     "name": "#%%\n"
    }
   }
  },
  {
   "cell_type": "markdown",
   "source": [
    "## NumPy와 SciPy\n",
    "\n",
    "NumPy와 SciPy는 표준 라이브러리는 아니지만 고급 배열 및 행렬 연산 덕분에 파이썬이 과한 계산 애플리케이션에서 널리 사용하게 되었다.\n",
    "SciPy는 Numpy를 기반으로 작성된 라이브러리로서, 선형대수학, 수치해석, 통계학에 나오는 여러 과학 계산 알고리즘을 제공한다."
   ],
   "metadata": {
    "collapsed": false,
    "pycharm": {
     "name": "#%% md\n"
    }
   }
  },
  {
   "cell_type": "code",
   "execution_count": 4,
   "outputs": [
    {
     "data": {
      "text/plain": "array([[ 0,  4,  8],\n       [ 1,  5,  9],\n       [ 2,  6, 10],\n       [ 3,  7, 11]])"
     },
     "execution_count": 4,
     "metadata": {},
     "output_type": "execute_result"
    }
   ],
   "source": [
    "import numpy\n",
    "a = numpy.arange(12)\n",
    "\n",
    "type(a)\n",
    "\n",
    "a.shape\n",
    "a.shape = 3, 4\n",
    "a[2]\n",
    "a[2, 1]\n",
    "a[:, 1]\n",
    "a.transpose()"
   ],
   "metadata": {
    "collapsed": false,
    "pycharm": {
     "name": "#%%\n"
    }
   }
  },
  {
   "cell_type": "markdown",
   "source": [
    "덱 및 기타 큐\n",
    "`append()`와 `pop()` 메서드를 사용해서 리스트를 스택이나 큐로 사용할 수 있다. 그러나 리스클르 왼쪽(0번 인덱스)에 삽입하거나 삭제하는 연산은 전체 리스트를 이동시켜야 하므로 처리 부담이 크다.\n",
    "덱(`collections.deque`) 클래스는 큐의 약쪽 어디에서든 빠르게 삽입 및 삭제할 수 있도록 설계된 tread-safe한 양방향 큐다."
   ],
   "metadata": {
    "collapsed": false,
    "pycharm": {
     "name": "#%% md\n"
    }
   }
  },
  {
   "cell_type": "code",
   "execution_count": 14,
   "outputs": [
    {
     "name": "stdout",
     "output_type": "stream",
     "text": [
      "deque([0, 1, 2, 3, 4, 5, 6, 7, 8, 9], maxlen=10)\n",
      "deque([7, 8, 9, 0, 1, 2, 3, 4, 5, 6], maxlen=10)\n",
      "deque([-1, 7, 8, 9, 0, 1, 2, 3, 4, 5], maxlen=10)\n",
      "deque([9, 0, 1, 2, 3, 4, 5, 11, 22, 33], maxlen=10)\n",
      "deque([40, 30, 20, 10, 9, 0, 1, 2, 3, 4], maxlen=10)\n"
     ]
    }
   ],
   "source": [
    "from collections import deque\n",
    "dq = deque(range(10), maxlen=10)\n",
    "print(dq)\n",
    "dq.rotate(3)\n",
    "print(dq)\n",
    "dq.appendleft(-1)\n",
    "print(dq)\n",
    "dq.extend([11, 22, 33])\n",
    "print(dq)\n",
    "# extendleft(iter)는 iter 인수에서 생성되는 항목을 덱의 왼쪽에 하나씩 차례대로 추가한다. 따라서 항목이 역순으로 추가된다.\n",
    "dq.extendleft([10, 20, 30, 40])\n",
    "print(dq)"
   ],
   "metadata": {
    "collapsed": false,
    "pycharm": {
     "name": "#%%\n"
    }
   }
  },
  {
   "cell_type": "markdown",
   "source": [
    "덱은 중간 항목을 삭제하는 연산은 그리 빠르지 않다. 덱이 양쪽 끝에 추가나 제거하는 연산에 최적화 되어있기 떄문이다.\n",
    "\n",
    "`append()`나 `popleft()` **메서드는 원자성을 갖고 있으므로 멀티스레드 앱에서 락을 사용하지 않고도 덱을 이용해서 간단히 FIFO 큐를 구현할 수 있다.**"
   ],
   "metadata": {
    "collapsed": false,
    "pycharm": {
     "name": "#%% md\n"
    }
   }
  },
  {
   "cell_type": "code",
   "execution_count": null,
   "outputs": [],
   "source": [],
   "metadata": {
    "collapsed": false,
    "pycharm": {
     "name": "#%%\n"
    }
   }
  }
 ],
 "metadata": {
  "kernelspec": {
   "display_name": "Python 3",
   "language": "python",
   "name": "python3"
  },
  "language_info": {
   "codemirror_mode": {
    "name": "ipython",
    "version": 2
   },
   "file_extension": ".py",
   "mimetype": "text/x-python",
   "name": "python",
   "nbconvert_exporter": "python",
   "pygments_lexer": "ipython2",
   "version": "2.7.6"
  }
 },
 "nbformat": 4,
 "nbformat_minor": 0
}