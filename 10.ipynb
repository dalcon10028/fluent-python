{
 "cells": [
  {
   "cell_type": "markdown",
   "source": [
    "# 시퀀스 해킹, 해시, 슬라이스\n",
    "\n",
    "- 기본 시퀀스 프로토콜: __len__()과 __getitem__() 메서드\n",
    "- 여러 항목을 가진 객체를 안전하게 표현\n",
    "- 슬라이싱을 지원해서 새로운 백터 객체 생성\n",
    "- 포함된 요소 값을 모두 고려한 집합 해싱\n",
    "- 커스터마이스된 포맷 언어 확장\n",
    "\n",
    "예제 코드 중간에 프로토콜을 비공식 인터페이스로 사용하는 것에 대한 개념을 설명한다.\n",
    "프로토콜이 **덕 타이핑**과 어떻게 연관되는지, 여러분이 직접 자료형을 만들 때 어떤 영향을 미치는 지에 대해 설명한다.\n"
   ],
   "metadata": {
    "collapsed": false,
    "pycharm": {
     "name": "#%% md\n"
    }
   }
  },
  {
   "cell_type": "markdown",
   "source": [
    "## 프로토콜과 덕 타이핑\n",
    "\n",
    "객체지향 프로그래밍에서 프로토콜은 문서에만 정의되어 있고 실제 코드에서는 정의되지 않는 비공식 인터페이스다.\n",
    "예를 들어 파이썬의 시퀀스 프로토콜은 `__len__()`과 `__getitem__()` 메서드를 동반할 뿐이다."
   ],
   "metadata": {
    "collapsed": false,
    "pycharm": {
     "name": "#%% md\n"
    }
   }
  },
  {
   "cell_type": "code",
   "execution_count": 3,
   "outputs": [
    {
     "name": "stdout",
     "output_type": "stream",
     "text": [
      "1\n",
      "slice(1, 4, None)\n",
      "slice(1, 4, 2)\n",
      "slice(1, 4, 2) 9\n",
      "(slice(1, 4, 2), slice(7, 9, None))\n"
     ]
    }
   ],
   "source": [
    "# 슬라이싱의 작동 방식\n",
    "class MySeq:\n",
    "  def __getitem__(self, index):\n",
    "    return index\n",
    "\n",
    "s = MySeq()\n",
    "print(s[1])\n",
    "print(s[1:4])\n",
    "print(s[1:4:2])\n",
    "print(s[1:4:2], 9)\n",
    "print(s[1:4:2, 7:9])"
   ],
   "metadata": {
    "collapsed": false,
    "pycharm": {
     "name": "#%%\n"
    }
   }
  },
  {
   "cell_type": "code",
   "execution_count": null,
   "outputs": [],
   "source": [],
   "metadata": {
    "collapsed": false,
    "pycharm": {
     "name": "#%%\n"
    }
   }
  }
 ],
 "metadata": {
  "kernelspec": {
   "display_name": "Python 3",
   "language": "python",
   "name": "python3"
  },
  "language_info": {
   "codemirror_mode": {
    "name": "ipython",
    "version": 2
   },
   "file_extension": ".py",
   "mimetype": "text/x-python",
   "name": "python",
   "nbconvert_exporter": "python",
   "pygments_lexer": "ipython2",
   "version": "2.7.6"
  }
 },
 "nbformat": 4,
 "nbformat_minor": 0
}