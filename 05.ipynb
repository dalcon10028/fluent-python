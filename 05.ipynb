{
 "cells": [
  {
   "cell_type": "markdown",
   "source": [
    "# 일급 함수\n",
    "\n",
    "일급 객체의 정의\n",
    "- 런타임에 생성할 수 있다.\n",
    "- 데이터 구조체의 변수나 요소에 할당할 수 있다.\n",
    "- 함수 인수로 전달할 수 있다.\n",
    "- 함수 결과로 반환할 수 있다.\n",
    "\n",
    "## higher-order function\n",
    "함수를 인수로 받거나, 함수를 결과로 반환하는 함수를 고위 함수라고 한다."
   ],
   "metadata": {
    "collapsed": false
   }
  },
  {
   "cell_type": "code",
   "execution_count": 1,
   "metadata": {
    "collapsed": true
   },
   "outputs": [
    {
     "name": "stdout",
     "output_type": "stream",
     "text": [
      "gnitset\n"
     ]
    }
   ],
   "source": [
    "# 단어 리스트를 철자 역순으로 정렬하기\n",
    "def reverse(word):\n",
    "    return word[::-1]\n",
    "print(reverse('testing'))"
   ]
  },
  {
   "cell_type": "markdown",
   "source": [
    "## map filter reduce의 대안\n",
    "\n",
    "`map()`과 `filter()`함수는 여전히 파이썬 3에 내장되어 있지만, **지능형 리스트와 제너레이터 표현식이 소개된 후에는 이 함수의 중요성이 떨어졌다.**\n",
    "지능형 리스트나 제너레이터 표현식이 `map()`과 `filter()`의 조합이 처리하는 작업을 표현할 수 있을 뿐만 아니라 가독성도 더 좋기 때문이다."
   ],
   "metadata": {
    "collapsed": false
   }
  },
  {
   "cell_type": "code",
   "execution_count": 8,
   "outputs": [
    {
     "name": "stdout",
     "output_type": "stream",
     "text": [
      "[1, 1, 2, 6, 24, 120]\n",
      "[1, 1, 2, 6, 24, 120]\n",
      "[1, 6, 120]\n",
      "[1, 6, 120]\n"
     ]
    },
    {
     "data": {
      "text/plain": "4950"
     },
     "execution_count": 8,
     "metadata": {},
     "output_type": "execute_result"
    }
   ],
   "source": [
    "def factorial(n):\n",
    "    return 1 if n < 2 else n * factorial(n-1)\n",
    "\n",
    "fact = factorial\n",
    "\n",
    "# map\n",
    "print(list(map(fact, range(6))))\n",
    "# 지능형 리스트\n",
    "print([fact(n) for n in range(6)])\n",
    "# filter\n",
    "print(list(map(factorial, filter(lambda n: n % 2, range(6)))))\n",
    "# 지능형 리스트\n",
    "print([factorial(n) for n in range(6) if n % 2])\n",
    "\n",
    "from functools import reduce\n",
    "from operator import add\n",
    "# reduce\n",
    "reduce(add, range(100))\n",
    "# sum\n",
    "sum(range(100))"
   ],
   "metadata": {
    "collapsed": false
   }
  },
  {
   "cell_type": "code",
   "execution_count": 9,
   "outputs": [
    {
     "data": {
      "text/plain": "['apple', 'fig', 'strawberry']"
     },
     "execution_count": 9,
     "metadata": {},
     "output_type": "execute_result"
    }
   ],
   "source": [
    "fruits = ['strawberry', 'fig', 'apple']\n",
    "sorted(fruits, key=lambda word: word[::-1])"
   ],
   "metadata": {
    "collapsed": false
   }
  },
  {
   "cell_type": "markdown",
   "source": [
    "## 일곱 가지 맛의 콜러블 객체\n",
    "호출 연산자인 `()`는  사용자 정의 함수 이외의 다른 객체에서도 적용할 수 있다.\n",
    "호출할 수 있는 객체인지 알아보려면 `callable()` 내장 함수를 사용한다.\n",
    "파이썬 데이터 모델 문서는 다음 일곱 가지 콜러블을 나열하고 있다.\n",
    "\n",
    "- 사용자 정의 함수\n",
    "    - def문이나 람다 표현식으로 생성한다.\n",
    "- 내장 함수\n",
    "    - len()이나 time.strftime()처럼 c언어로 구현된 함수(CPython의 경우)\n",
    "- 내장 메서드\n",
    "    - dict.get()처럼 C언어로 구현된 메서드\n",
    "- 메서드\n",
    "    - 클래스 본체에 정의된 함수\n",
    "- 클래스\n",
    "    - 호출될 때 클래스는 자신의 `__new__()` 메서드를 실행해서 객체를 생성하고, `__init__()`으로 초기화한 후, 최종적으로 호출자에 객체를 반환한다.파이썬에는 new 연산자가 없으므로 클래스를 호출하는 것은 함수를 호출하는 것과 동일하다.\n",
    "- 클래스 객체\n",
    "    - 클래스가 `__call__()` 메서드를 구현하면 이 클래스의 객체는 함수로 호출될 수 있다.\n",
    "- 제너레이터 함수\n",
    "    - `yield` 키워드를 사용하는 함수나 메서드, 이 함수가 호출되면 제너레이터 객체를 반환한다.\n",
    "\n",
    "파이썬에는 다양한 콜러블형이 존재하므로 callabe() 내장함수를 사용해서 호출할 수 있는 객체인지 판단하는 방법이 가장 안전하다."
   ],
   "metadata": {
    "collapsed": false
   }
  },
  {
   "cell_type": "code",
   "execution_count": 11,
   "outputs": [
    {
     "data": {
      "text/plain": "[True, True, False]"
     },
     "execution_count": 11,
     "metadata": {},
     "output_type": "execute_result"
    }
   ],
   "source": [
    "abs, str, 13\n",
    "\n",
    "[callable(obj) for obj in (abs, str, 13)]"
   ],
   "metadata": {
    "collapsed": false
   }
  },
  {
   "cell_type": "markdown",
   "source": [
    "## 위치 매개변수에서 키워드 전용 매개변수까지\n",
    "\n",
    "키워드 전용 인수를 이용해서 향상된, 파이썬 3의 지극히 융통성 있는 매개변수 처리 매커니즘은 파이썬 함수에서 볼 수 있는 가장 훌륭한 기능 중 하나이다.\n",
    "함수를 호출할 때 반복 기능 객체나 매핑형을 별도의 인수로 폴발 시키는 *와 ** 기호도 이 메커니즘과 밀접하게 연관되어 있다."
   ],
   "metadata": {
    "collapsed": false
   }
  },
  {
   "cell_type": "code",
   "execution_count": 19,
   "outputs": [
    {
     "data": {
      "text/plain": "'<p>hello</p>'"
     },
     "execution_count": 19,
     "metadata": {},
     "output_type": "execute_result"
    }
   ],
   "source": [
    "# HTML을 생성하는 tag()함수. class는 파이썬에 정의된 키워드로, 이를 피해 class 속성을 전달하기 위해 키워드 전용 클래스 매개변수로 cls를 사용했다.\n",
    "def tag(name, *content, cls=None, **attrs):\n",
    "    if cls is not None:\n",
    "        attrs['class'] = cls\n",
    "    if attrs:\n",
    "        attr_str = ''.join(' %s=\"%s\"' % (attr, value)\n",
    "                           for attr, value\n",
    "                           in sorted(attrs.items()))\n",
    "    else:\n",
    "        attr_str = ''\n",
    "    if content:\n",
    "        return  '\\n'.join('<%s%s>%s</%s>' %\n",
    "                          (name, attr_str, c, name) for c in content)\n",
    "    else:\n",
    "        return '<%s%s />' % (name, attr_str)\n",
    "\n",
    "tag('br')\n",
    "tag('p', 'hello')"
   ],
   "metadata": {
    "collapsed": false
   }
  },
  {
   "cell_type": "markdown",
   "source": [
    "## 함수 애너테이션\n",
    "파이썬 3는 함수의 매개변수와 반환값에 메타데이터를 추가할 수 있는 구문을 제공한다.\n",
    "\n",
    "에너테이션을 전혀 처리하지 않으며, 단지 함수 객체 안에 dict형 __annotations__속성에 저장될 뿐이다.\n",
    "애너테이션은 도구, 프레임워크, 데커레이터가 사용할 수 있는 메타데이터일 뿐이다."
   ],
   "metadata": {
    "collapsed": false
   }
  },
  {
   "cell_type": "code",
   "execution_count": 3,
   "outputs": [],
   "source": [
    "def clip(text:str, max_len:'int > 0'=80) -> str:\n",
    "    \"\"\"\n",
    "    max_len 앞이나 뒤의 마지막 공백에서 잘라낸 텍스트를 반환한다.\n",
    "    :param text:\n",
    "    :param max_len:\n",
    "    :return:\n",
    "    \"\"\"\n",
    "    end = None\n",
    "    if len(text) > max_len:\n",
    "        space_before = text.rfind(' ', 0, max_len)\n",
    "        if space_before >= 0:\n",
    "            end = space_before\n",
    "        else:\n",
    "            space_after = text.rfind(' ', max_len)\n",
    "            if space_after >= 0:\n",
    "                end = space_after\n",
    "    if end is None:\n",
    "        end = len(text)\n",
    "    return text[:end].rstrip()"
   ],
   "metadata": {
    "collapsed": false
   }
  },
  {
   "cell_type": "code",
   "execution_count": 7,
   "outputs": [
    {
     "name": "stdout",
     "output_type": "stream",
     "text": [
      "<class 'str'>\n",
      "OrderedDict([('text', <Parameter \"text: str\">), ('max_len', <Parameter \"max_len: 'int > 0' = 80\">)])\n"
     ]
    }
   ],
   "source": [
    "# 함수 시그니처에서 애너테이션 추출하기\n",
    "from inspect import signature\n",
    "sig = signature(clip)\n",
    "print(sig.return_annotation)\n",
    "print(sig.parameters)"
   ],
   "metadata": {
    "collapsed": false
   }
  },
  {
   "cell_type": "markdown",
   "source": [
    "## 함수형 프로그래밍을 위한 패키지\n",
    "- operator\n",
    "- functools\n"
   ],
   "metadata": {
    "collapsed": false
   }
  },
  {
   "cell_type": "code",
   "execution_count": null,
   "outputs": [],
   "source": [
    "from functools import reduce\n",
    "from operator import mul\n",
    "\n",
    "# 람다 표현\n",
    "def fact(n):\n",
    "    return reduce(lambda a, b: a*b, range(1, n+1))\n",
    "\n",
    "# operator.mul\n",
    "def fact(n):\n",
    "    return reduce(mul, range(1, n+1))\n"
   ],
   "metadata": {
    "collapsed": false
   }
  },
  {
   "cell_type": "markdown",
   "source": [
    "### 튜플 리스트 처리하기"
   ],
   "metadata": {
    "collapsed": false
   }
  },
  {
   "cell_type": "code",
   "execution_count": 14,
   "outputs": [
    {
     "data": {
      "text/plain": "[('Sao Paulo', 'BR', 19.649, (-23.547778, -46.635833)),\n ('Delhi NCR', 'IN', 21.935, (28.613889, 77.208889)),\n ('Tokyo', 'JP', 36.933, (35.689722, 139.691667)),\n ('Mexico City', 'MX', 20.142, (19.433333, -99.133333)),\n ('New York-Newark', 'US', 20.104, (40.808611, -74.020386))]"
     },
     "execution_count": 14,
     "metadata": {},
     "output_type": "execute_result"
    }
   ],
   "source": [
    "# 튜플의 리스트를 정렬하기 위한 itemgetter() 사용\n",
    "\n",
    "metro_data = [\n",
    "    ('Tokyo', 'JP', 36.933, (35.689722, 139.691667)),\n",
    "    ('Delhi NCR', 'IN', 21.935, (28.613889, 77.208889)),\n",
    "    ('Mexico City', 'MX', 20.142, (19.433333, -99.133333)),\n",
    "    ('New York-Newark', 'US', 20.104, (40.808611, -74.020386)),\n",
    "    ('Sao Paulo', 'BR', 19.649, (-23.547778, -46.635833)),\n",
    "]\n",
    "\n",
    "from operator import itemgetter\n",
    "[city for city in sorted(metro_data, key=itemgetter(1))]"
   ],
   "metadata": {
    "collapsed": false
   }
  },
  {
   "cell_type": "markdown",
   "source": [
    "### 객체 속성 처리"
   ],
   "metadata": {
    "collapsed": false
   }
  },
  {
   "cell_type": "markdown",
   "source": [],
   "metadata": {
    "collapsed": false
   }
  }
 ],
 "metadata": {
  "kernelspec": {
   "display_name": "Python 3",
   "language": "python",
   "name": "python3"
  },
  "language_info": {
   "codemirror_mode": {
    "name": "ipython",
    "version": 2
   },
   "file_extension": ".py",
   "mimetype": "text/x-python",
   "name": "python",
   "nbconvert_exporter": "python",
   "pygments_lexer": "ipython2",
   "version": "2.7.6"
  }
 },
 "nbformat": 4,
 "nbformat_minor": 0
}
