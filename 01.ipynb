{
 "cells": [
  {
   "cell_type": "code",
   "execution_count": null,
   "metadata": {
    "collapsed": true,
    "pycharm": {
     "name": "#%%\n"
    }
   },
   "outputs": [],
   "source": [
    "import collections\n",
    "from random import choice\n",
    "\n",
    "Card = collections.namedtuple('Card', ['rank', 'suit'])\n",
    "\n",
    "class FrenchDeck:\n",
    "  ranks = [str(n) for n in range(2, 11)] + list('JQKA')\n",
    "  suits = 'spades diamonds clubs hearts'.split()\n",
    "\n",
    "  def __init__(self):\n",
    "    self._cards = [Card(rank, suit) for suit in self.suits\n",
    "                                    for rank in self.ranks]\n",
    "\n",
    "  def __len__(self):\n",
    "    return len(self._cards)\n",
    "\n",
    "  def __getitem__(self, position):\n",
    "    return self._cards[position]\n",
    "\n",
    "beer_card = Card('7', 'diamonds')\n",
    "print(beer_card)\n",
    "\n",
    "deck = FrenchDeck()\n",
    "print(len(deck))\n",
    "\n",
    "print(deck[:3])\n",
    "print(deck[12::13])"
   ]
  }
 ],
 "metadata": {
  "kernelspec": {
   "display_name": "Python 3",
   "language": "python",
   "name": "python3"
  },
  "language_info": {
   "codemirror_mode": {
    "name": "ipython",
    "version": 2
   },
   "file_extension": ".py",
   "mimetype": "text/x-python",
   "name": "python",
   "nbconvert_exporter": "python",
   "pygments_lexer": "ipython2",
   "version": "2.7.6"
  }
 },
 "nbformat": 4,
 "nbformat_minor": 0
}