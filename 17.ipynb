{
 "cells": [
  {
   "cell_type": "markdown",
   "source": [
    "# Future를 이용한 동시성\n",
    "\n",
    "이 장에서는 PyPI의 futures 패키지를 통해 사용할 수 있는 concurrent.futures 라이브러리를 중점적으로 알아본다.\n",
    "\n",
    "그리고 비동기 작업의 실행을 나타내는 객체인 Future의 개념에 대해 소개한다. 이 강력한 개념은 concurrent.futures뿐만 아니라 asyncio 패키지의 기반이 된다.\n",
    "\n",
    "## 예제: 세 가지 스타일의 웹 내려받기\n",
    "\n",
    "긴 지연시간 동안 CPU 클록을 낭비하지 않기 위해 네트워크 입출력을 효율적으로 처리하려면 동시성을 이용해야 한다. 네트워크 응답이 오는 동안 다른 일을 처리하는 것이 좋다."
   ],
   "metadata": {
    "collapsed": false,
    "pycharm": {
     "name": "#%% md\n"
    }
   }
  },
  {
   "cell_type": "code",
   "execution_count": 9,
   "metadata": {
    "collapsed": true,
    "pycharm": {
     "name": "#%%\n"
    }
   },
   "outputs": [
    {
     "name": "stdout",
     "output_type": "stream",
     "text": [
      "BD BR CD CN DE EG ET FR ID IN IR JP MX NG PH PK RU TR US VN \n",
      "20 flags downloaded in 18.45s\n"
     ]
    }
   ],
   "source": [
    "# 순차 내려받기 스크립트\n",
    "\n",
    "import os\n",
    "import time\n",
    "import sys\n",
    "\n",
    "import requests\n",
    "\n",
    "POP20_CC = ('CN IN US ID BR PK NG BD RU JP '\n",
    "            'MX PH VN ET EG DE IR TR CD FR').split()\n",
    "\n",
    "BASE_URL = 'http://flupy.org/data/flags'\n",
    "DEST_DIR = os.getcwd() + '/downloads/'\n",
    "\n",
    "def save_flag(img, filename):\n",
    "  path = os.path.join(DEST_DIR, filename)\n",
    "  with open(path, 'wb') as fp:\n",
    "    fp.write(img)\n",
    "\n",
    "def get_flag(cc):\n",
    "  url = '{}/{cc}/{cc}.gif'.format(BASE_URL, cc=cc.lower())\n",
    "  resp = requests.get(url)\n",
    "  return resp.content\n",
    "\n",
    "def show(text):\n",
    "  print(text, end=' ')\n",
    "  sys.stdout.flush()\n",
    "\n",
    "def download_many(cc_list):\n",
    "  for cc in sorted(cc_list):\n",
    "    image = get_flag(cc)\n",
    "    show(cc)\n",
    "    save_flag(image, cc.lower() + '.gif')\n",
    "  return len(cc_list)\n",
    "\n",
    "def main(download_many):\n",
    "  t0 = time.time()\n",
    "  count = download_many(POP20_CC)\n",
    "  elapsed = time.time() - t0\n",
    "  msg = '\\n{} flags downloaded in {:.2f}s'\n",
    "  print(msg.format(count, elapsed))\n",
    "\n",
    "if __name__ == '__main__':\n",
    "  main(download_many)\n"
   ]
  },
  {
   "cell_type": "markdown",
   "source": [
    "## concurrent.futures로 내려받기\n",
    "\n",
    "`concurrent.futures` 패키지의 가장 큰 특징은 ThreadPoolExecutor와 ProcessPoolExecutor 클래스인데, 이 클래스들은 콜러블 객체를 서로 다른 스레드나 프로세스에서 실행할 수 있게 해주는 인터페이스를 구현한다.\n",
    "이 클래스들은 작업자 스레드나 프로세스를 관리하는 풀과 실행할 작업을 담은 큐를 가지고 있다. 그러나 아주 고수준의 인터페이스를 구현하고 있어서 국기를 내려받는 간단한 프로그램을 구현할 때는 내부의 작동과정을 알 필요가 없다."
   ],
   "metadata": {
    "collapsed": false,
    "pycharm": {
     "name": "#%% md\n"
    }
   }
  },
  {
   "cell_type": "code",
   "execution_count": 11,
   "outputs": [
    {
     "name": "stdout",
     "output_type": "stream",
     "text": [
      "TR BD EG IR DE ID FR BR PK PH RU CN MX CD US NG JP VN IN ET \n",
      "20 flags downloaded in 1.54s\n"
     ]
    }
   ],
   "source": [
    "from concurrent import futures\n",
    "\n",
    "MAX_WORKERS = 20\n",
    "\n",
    "def download_one(cc):\n",
    "  image = get_flag(cc)\n",
    "  show(cc)\n",
    "  save_flag(image, cc.lower() + '.gif')\n",
    "  return cc\n",
    "\n",
    "def download_many(cc_list):\n",
    "  workers = min(MAX_WORKERS, len(cc_list))\n",
    "  with futures.ThreadPoolExecutor(workers) as executor:\n",
    "    res = executor.map(download_one, sorted(cc_list))\n",
    "\n",
    "  return len(list(res))\n",
    "\n",
    "if __name__ == '__main__':\n",
    "  main(download_many)"
   ],
   "metadata": {
    "collapsed": false,
    "pycharm": {
     "name": "#%%\n"
    }
   }
  }
 ],
 "metadata": {
  "kernelspec": {
   "display_name": "Python 3",
   "language": "python",
   "name": "python3"
  },
  "language_info": {
   "codemirror_mode": {
    "name": "ipython",
    "version": 2
   },
   "file_extension": ".py",
   "mimetype": "text/x-python",
   "name": "python",
   "nbconvert_exporter": "python",
   "pygments_lexer": "ipython2",
   "version": "2.7.6"
  }
 },
 "nbformat": 4,
 "nbformat_minor": 0
}